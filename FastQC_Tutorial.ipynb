{
 "cells": [
  {
   "cell_type": "markdown",
   "id": "41e65a75-97f1-4e07-af19-5ca78710ebe7",
   "metadata": {},
   "source": [
    "# Quality Assessment of Data with FastQC"
   ]
  },
  {
   "cell_type": "markdown",
   "id": "969f3be9-db7b-45b7-8273-dea8a251f831",
   "metadata": {},
   "source": [
    "The first step of most biofinformatic analyses is to assess the quality of the data you have recieved. In this example, we are working with real DNA sequencing data from a research project studying E. coli. We will use a common software, [FastQC](https://www.bioinformatics.babraham.ac.uk/projects/fastqc/), to assess the quality of the data.  "
   ]
  },
  {
   "cell_type": "markdown",
   "id": "037fb67d-c935-42bd-b882-6196073a5722",
   "metadata": {},
   "source": [
    "## Check Working Directory"
   ]
  },
  {
   "cell_type": "code",
   "execution_count": null,
   "id": "c58d6939-ccd7-4d2f-8a72-9722f903a226",
   "metadata": {},
   "outputs": [],
   "source": [
    "!pwd"
   ]
  },
  {
   "cell_type": "markdown",
   "id": "e046c65d-e9b6-4cd2-ae51-74e046670bc7",
   "metadata": {},
   "source": [
    "We should see `/home/<username>/tutorial-fastqc`."
   ]
  },
  {
   "cell_type": "markdown",
   "id": "b9ec40a8-9e66-4034-95a5-9da25056edd9",
   "metadata": {},
   "source": [
    "## Script\n",
    "\n",
    "So far, our researcher has learned how to analyze sample files using FastQC and has put that command into a script. "
   ]
  },
  {
   "cell_type": "code",
   "execution_count": null,
   "id": "b48695cc-49f5-4d8a-b17a-925b2a61ba4e",
   "metadata": {},
   "outputs": [],
   "source": [
    "!cat fastqc.sh"
   ]
  },
  {
   "cell_type": "markdown",
   "id": "e3b02cd2-3a55-4123-8086-afb2d582f984",
   "metadata": {},
   "source": [
    "## List of inputs"
   ]
  },
  {
   "cell_type": "markdown",
   "id": "c9407a7b-e81c-4e53-b181-e64e0ecfded3",
   "metadata": {},
   "source": [
    "All we have to do to run this analysis in a parallelized way is create a list of inputs -- in this case, we're going to use the sample ID as the input. "
   ]
  },
  {
   "cell_type": "code",
   "execution_count": null,
   "id": "efc5fa3a-c752-4891-a002-7dc8dddd92ea",
   "metadata": {},
   "outputs": [],
   "source": [
    "cat list_of_samples.txt"
   ]
  },
  {
   "cell_type": "markdown",
   "id": "7980133b-080b-476c-804b-2a88ceb22d4d",
   "metadata": {},
   "source": [
    "## Multiple Jobs\n",
    "\n",
    "We will submit these jobs using the HTCondor scheduler; the submit file will iterate through our list of inputs and submit a job for each one. The `$(sample)` variable is a placeholder for the relevant item from the list of inputs. "
   ]
  },
  {
   "cell_type": "code",
   "execution_count": null,
   "id": "38dc83dd-f515-40a9-be7d-6b9353de0ac0",
   "metadata": {},
   "outputs": [],
   "source": [
    "!tail fastqc.submit"
   ]
  },
  {
   "cell_type": "markdown",
   "id": "20a9e9eb-8b31-4d2b-95a7-64df7e17567a",
   "metadata": {},
   "source": [
    "Let's submit the jobs! "
   ]
  },
  {
   "cell_type": "code",
   "execution_count": null,
   "id": "31e6392e-928f-4b8c-8aca-e8470a9a99d6",
   "metadata": {},
   "outputs": [],
   "source": [
    "!condor_submit mfastqc.submit"
   ]
  },
  {
   "cell_type": "markdown",
   "id": "3be64d5f-fb8b-4cb0-a232-d96dd150cb99",
   "metadata": {},
   "source": [
    "Notice that using a **single submit file**, we now have **multiple jobs in the queue**."
   ]
  },
  {
   "cell_type": "markdown",
   "id": "cff8d5f4-b7a3-4c1d-bb22-b1f9e26e04e8",
   "metadata": {},
   "source": [
    "We can check on the status of our multiple jobs in HTCondor's queue by using:"
   ]
  },
  {
   "cell_type": "code",
   "execution_count": null,
   "id": "f895390a-b20a-4076-90de-bcd94236c784",
   "metadata": {},
   "outputs": [],
   "source": [
    "!condor_q"
   ]
  },
  {
   "cell_type": "markdown",
   "id": "d9ecf23c-1b3e-4539-b6cf-f78d80adc292",
   "metadata": {},
   "source": [
    "When ready, we can check our results in our `results/` directory:"
   ]
  },
  {
   "cell_type": "code",
   "execution_count": null,
   "id": "97431cb0-f605-415a-bd21-e9b45bf56479",
   "metadata": {},
   "outputs": [],
   "source": [
    "!ls results/"
   ]
  },
  {
   "cell_type": "markdown",
   "id": "e91b2a3f-3270-4f1b-b82a-287c00cba3bc",
   "metadata": {},
   "source": [
    "We've finished the first step of a sequencing analysis pipeline!"
   ]
  },
  {
   "cell_type": "code",
   "execution_count": null,
   "id": "92179e96-a79e-4344-a485-5aa9d8fafd05",
   "metadata": {},
   "outputs": [],
   "source": []
  }
 ],
 "metadata": {
  "kernelspec": {
   "display_name": "Python 3 (ipykernel)",
   "language": "python",
   "name": "python3"
  },
  "language_info": {
   "codemirror_mode": {
    "name": "ipython",
    "version": 3
   },
   "file_extension": ".py",
   "mimetype": "text/x-python",
   "name": "python",
   "nbconvert_exporter": "python",
   "pygments_lexer": "ipython3",
   "version": "3.8.11"
  }
 },
 "nbformat": 4,
 "nbformat_minor": 5
}
